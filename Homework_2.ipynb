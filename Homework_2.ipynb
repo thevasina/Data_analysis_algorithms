{
 "cells": [
  {
   "cell_type": "code",
   "execution_count": 13,
   "metadata": {},
   "outputs": [],
   "source": [
    "import numpy as np\n",
    "from sklearn import datasets\n",
    "import matplotlib.pyplot as plt\n",
    "from sklearn. datasets import make_regression\n",
    "\n",
    "%matplotlib inline"
   ]
  },
  {
   "cell_type": "code",
   "execution_count": 14,
   "metadata": {},
   "outputs": [],
   "source": [
    "data1, target =  datasets.make_regression(1000, 2)\n",
    "data1[:,0] = data1[:,0]*10"
   ]
  },
  {
   "cell_type": "code",
   "execution_count": 15,
   "metadata": {},
   "outputs": [
    {
     "data": {
      "text/plain": [
       "[<matplotlib.lines.Line2D at 0x7fe55d790ac0>]"
      ]
     },
     "execution_count": 15,
     "metadata": {},
     "output_type": "execute_result"
    },
    {
     "data": {
      "image/png": "[encoded data removed]",
      "text/plain": [
       "<Figure size 432x288 with 1 Axes>"
      ]
     },
     "metadata": {
      "needs_background": "light"
     },
     "output_type": "display_data"
    }
   ],
   "source": [
    "plt.plot(data1[:,0], target, '.')"
   ]
  },
  {
   "cell_type": "code",
   "execution_count": 16,
   "metadata": {},
   "outputs": [
    {
     "data": {
      "text/plain": [
       "(-0.16364445520185794, 22.71881538690717)"
      ]
     },
     "execution_count": 16,
     "metadata": {},
     "output_type": "execute_result"
    }
   ],
   "source": [
    "data1[1].min(), data1[1].max()"
   ]
  },
  {
   "cell_type": "code",
   "execution_count": 17,
   "metadata": {},
   "outputs": [
    {
     "data": {
      "text/plain": [
       "(-1.5787871626189254, -0.4031315527254907)"
      ]
     },
     "execution_count": 17,
     "metadata": {},
     "output_type": "execute_result"
    }
   ],
   "source": [
    "data1[2].min(), data1[2].max()"
   ]
  },
  {
   "cell_type": "code",
   "execution_count": 18,
   "metadata": {},
   "outputs": [
    {
     "data": {
      "text/plain": [
       "array([[11.05714367, -0.85900466],\n",
       "       [22.71881539, -0.16364446],\n",
       "       [-1.57878716, -0.40313155],\n",
       "       ...,\n",
       "       [-2.39611657, -1.38981437],\n",
       "       [12.40673207, -0.67982199],\n",
       "       [ 4.90042955, -0.62141312]])"
      ]
     },
     "execution_count": 18,
     "metadata": {},
     "output_type": "execute_result"
    }
   ],
   "source": [
    "X_norm = data1.copy()\n",
    "X_norm = X_norm.astype(np.float64)\n",
    "X_norm"
   ]
  },
  {
   "cell_type": "code",
   "execution_count": 19,
   "metadata": {},
   "outputs": [
    {
     "data": {
      "text/plain": [
       "array([[11.05714367, -0.85900466],\n",
       "       [ 1.        ,  0.        ],\n",
       "       [-1.57878716, -0.40313155],\n",
       "       ...,\n",
       "       [-2.39611657, -1.38981437],\n",
       "       [12.40673207, -0.67982199],\n",
       "       [ 4.90042955, -0.62141312]])"
      ]
     },
     "execution_count": 19,
     "metadata": {},
     "output_type": "execute_result"
    }
   ],
   "source": [
    "X_norm[1] = (data1[1] - data1[1].min()) / (data1[1].max() - data1[1].min())\n",
    "X_norm"
   ]
  },
  {
   "cell_type": "code",
   "execution_count": 20,
   "metadata": {},
   "outputs": [
    {
     "data": {
      "text/plain": [
       "array([[11.05714367, -0.85900466],\n",
       "       [ 1.        ,  0.        ],\n",
       "       [ 0.        ,  1.        ],\n",
       "       ...,\n",
       "       [-2.39611657, -1.38981437],\n",
       "       [12.40673207, -0.67982199],\n",
       "       [ 4.90042955, -0.62141312]])"
      ]
     },
     "execution_count": 20,
     "metadata": {},
     "output_type": "execute_result"
    }
   ],
   "source": [
    "X_norm[2] = (data1[2] - data1[2].min()) / (data1[2].max() - data1[2].min())\n",
    "X_norm"
   ]
  },
  {
   "cell_type": "code",
   "execution_count": 22,
   "metadata": {},
   "outputs": [
    {
     "name": "stdout",
     "output_type": "stream",
     "text": [
      "11.277585465852656 11.441229921054514\n"
     ]
    }
   ],
   "source": [
    "X_st = data1.copy().astype(np.float64)\n",
    "X1_mean = data1[1].mean()\n",
    "X1_std = data1[1].std()\n",
    "print(X1_mean, X1_std)"
   ]
  },
  {
   "cell_type": "code",
   "execution_count": 23,
   "metadata": {},
   "outputs": [
    {
     "data": {
      "text/plain": [
       "array([[11.05714367, -0.85900466],\n",
       "       [ 1.        , -1.        ],\n",
       "       [-1.57878716, -0.40313155],\n",
       "       ...,\n",
       "       [-2.39611657, -1.38981437],\n",
       "       [12.40673207, -0.67982199],\n",
       "       [ 4.90042955, -0.62141312]])"
      ]
     },
     "execution_count": 23,
     "metadata": {},
     "output_type": "execute_result"
    }
   ],
   "source": [
    "X_st[1] = (data1[1] - X1_mean) / X1_std\n",
    "X_st"
   ]
  },
  {
   "cell_type": "code",
   "execution_count": 24,
   "metadata": {},
   "outputs": [],
   "source": [
    "def calc_std_fit(data1):\n",
    "    res = (data1 - data1.mean()) / data1.std()\n",
    "    return res"
   ]
  },
  {
   "cell_type": "code",
   "execution_count": 25,
   "metadata": {},
   "outputs": [],
   "source": [
    "X_st[2] = calc_std_fit(data1[2])"
   ]
  },
  {
   "cell_type": "code",
   "execution_count": 26,
   "metadata": {},
   "outputs": [
    {
     "data": {
      "text/plain": [
       "array([[11.05714367, -0.85900466],\n",
       "       [ 1.        , -1.        ],\n",
       "       [-1.        ,  1.        ],\n",
       "       ...,\n",
       "       [-2.39611657, -1.38981437],\n",
       "       [12.40673207, -0.67982199],\n",
       "       [ 4.90042955, -0.62141312]])"
      ]
     },
     "execution_count": 26,
     "metadata": {},
     "output_type": "execute_result"
    }
   ],
   "source": [
    "X_st[3] = calc_std_fit(data1[3])\n",
    "X_st"
   ]
  },
  {
   "cell_type": "code",
   "execution_count": 27,
   "metadata": {},
   "outputs": [],
   "source": [
    "means = np.mean(data1, axis=0)\n",
    "stds = np.std(data1, axis=0)\n",
    "data = data1.copy() \n",
    "for i in range(data1.shape[0]):\n",
    "    for j in range(data1.shape[1]):\n",
    "        data[i][j] = (data[i][j] - means[j])/stds[j]"
   ]
  },
  {
   "cell_type": "code",
   "execution_count": 28,
   "metadata": {},
   "outputs": [],
   "source": [
    "from sklearn.preprocessing import StandardScaler, Normalizer\n",
    "from sklearn.linear_model import LinearRegression"
   ]
  },
  {
   "cell_type": "code",
   "execution_count": 29,
   "metadata": {},
   "outputs": [],
   "source": [
    "data1_test, target_test = datasets.make_regression(1000, 2) \n",
    "data1_test[:,0] = data1_test[:,0]*10\n",
    "data_test = data1_test.copy() \n",
    "for i in range(data1_test.shape[0]):\n",
    "    for j in range(data1_test.shape[1]):\n",
    "        data_test[i][j] = (data_test[i][j] - means[j])/stds[j]"
   ]
  },
  {
   "cell_type": "code",
   "execution_count": 30,
   "metadata": {},
   "outputs": [
    {
     "data": {
      "image/png": "[encoded data removed]",
      "text/plain": [
       "<Figure size 432x288 with 1 Axes>"
      ]
     },
     "metadata": {
      "needs_background": "light"
     },
     "output_type": "display_data"
    }
   ],
   "source": [
    "c_lr1 = LinearRegression().fit(data1,target)\n",
    "c_lr = LinearRegression().fit(data,target)\n",
    "\n",
    "y1 = c_lr1.predict(data1_test[:1000,:])\n",
    "y = c_lr.predict(data_test[:1000,:])\n",
    "\n",
    "plt.plot(y,target_test[:1000],'or', label = 'scaled x')\n",
    "plt.plot(y1,target_test[:1000],'^g', label = 'no scaled x')\n",
    "plt.legend()\n",
    "plt.grid(True)\n",
    "plt.show()"
   ]
  },
  {
   "cell_type": "code",
   "execution_count": 31,
   "metadata": {},
   "outputs": [
    {
     "data": {
      "text/plain": [
       "(18.8421245660121, 18.84212456601212)"
      ]
     },
     "execution_count": 31,
     "metadata": {},
     "output_type": "execute_result"
    }
   ],
   "source": [
    "e1 = np.mean(np.abs(y-target_test))\n",
    "e = np.mean(np.abs(y1-target_test))\n",
    "e,e1"
   ]
  },
  {
   "cell_type": "code",
   "execution_count": 32,
   "metadata": {},
   "outputs": [
    {
     "data": {
      "text/plain": [
       "(array([ 5.72001224, 39.15768543]), array([58.78171515, 39.61105934]))"
      ]
     },
     "execution_count": 32,
     "metadata": {},
     "output_type": "execute_result"
    }
   ],
   "source": [
    "c_lr1.coef_, c_lr.coef_"
   ]
  },
  {
   "cell_type": "code",
   "execution_count": 33,
   "metadata": {},
   "outputs": [],
   "source": [
    "def mserror(X, w, y_pred):\n",
    "    y = X.dot(w)\n",
    "    return (sum((y - y_pred)**2)) / len(y)"
   ]
  },
  {
   "cell_type": "code",
   "execution_count": 34,
   "metadata": {},
   "outputs": [],
   "source": [
    "def model(data1, target, iterations, alpha=1e-4):\n",
    "    W = np.random.randn(data1.shape[0])\n",
    "    n = data1.shape[1]\n",
    "    for i in range(1, iterations+1):\n",
    "        y_pred = np.dot(W, X)\n",
    "        err = mserror(y, y_pred)\n",
    "        W -= (alpha * (1/n * 2 * np.dot((y_pred - y), X.T)))\n",
    "        if i % (iterations / 10) == 0:\n",
    "            print(i, W, err)\n",
    "    return W"
   ]
  },
  {
   "cell_type": "code",
   "execution_count": 35,
   "metadata": {},
   "outputs": [
    {
     "data": {
      "text/plain": [
       "array([-3.66237533e-01, -1.48918417e-01,  1.81698862e+00,  6.66525391e-01,\n",
       "        1.52375883e+00,  1.10145270e+00, -6.37893957e-01, -1.41204673e-02,\n",
       "        1.52233410e+00,  4.20993192e-01, -5.36119988e-01, -5.58730639e-01,\n",
       "        3.25170337e-01,  4.24278688e-01,  1.24899658e+00, -5.47193512e-02,\n",
       "       -2.57365600e-01, -1.84461696e-01, -6.90123349e-01,  1.44563507e+00,\n",
       "        2.16524079e+00,  5.17036536e-01, -1.64966221e-01,  1.77489883e-01,\n",
       "       -9.77055845e-01,  4.31913489e-02, -1.10368438e+00,  3.17996929e-01,\n",
       "        4.12498547e-02,  4.67227994e-01, -9.49777218e-01, -3.62207629e-01,\n",
       "        1.07913919e+00, -1.54718638e+00,  2.54379557e-01,  1.32909480e+00,\n",
       "        4.08781564e-01, -7.44395748e-01,  5.26437388e-01, -1.53255244e+00,\n",
       "        4.68777973e-01,  2.33628620e-02, -1.96089649e+00, -7.95752996e-01,\n",
       "       -4.47373931e-01, -1.59114033e+00,  6.66282474e-01,  6.79915857e-01,\n",
       "       -3.12308673e-01, -1.95189709e-04,  1.39456325e+00,  5.06833005e-02,\n",
       "       -1.23254355e+00,  3.80409363e-01,  1.33964378e-01,  3.03127141e-02,\n",
       "        1.59109012e+00,  1.03373337e+00,  4.47355196e-01,  9.15729301e-01,\n",
       "       -6.74060508e-02, -3.91909065e-01, -4.47380021e-01, -7.31037681e-01,\n",
       "        1.25019141e+00, -1.60527375e+00, -7.82569698e-01, -1.64207599e-01,\n",
       "        1.08172942e+00,  1.05774791e+00,  8.99068464e-01,  1.77204952e+00,\n",
       "       -9.36892422e-01,  4.31723500e-02, -6.75170490e-01, -1.26970320e+00,\n",
       "       -1.48403891e+00,  5.84155770e-01,  4.66199806e-01, -4.82472386e-01,\n",
       "       -7.35634771e-01,  8.36594015e-01,  3.49762358e-01, -9.12688614e-01,\n",
       "        8.46245146e-02, -1.64918732e-01, -2.69178019e-01,  1.25866678e+00,\n",
       "       -5.26499749e-01, -4.46870413e-01,  8.47234037e-01, -1.01486879e+00,\n",
       "       -4.24638440e-01, -4.36964736e-01,  6.09268969e-02, -2.11501961e+00,\n",
       "       -1.64307381e+00, -2.28862147e+00, -8.55654847e-01, -1.44064581e+00,\n",
       "       -4.07489149e-01, -2.61890795e-01, -1.00196700e+00, -1.21251873e-01,\n",
       "        1.04683454e+00,  8.96017104e-01,  3.72998102e-01,  1.69749461e+00,\n",
       "       -9.28598597e-01, -3.15233005e-01, -5.29886277e-01,  6.45162433e-02,\n",
       "       -6.34449038e-01,  1.81637609e-01, -1.34287987e+00,  1.40442013e+00,\n",
       "       -8.70424057e-01, -1.40323885e+00,  1.42953821e+00, -6.80668607e-01,\n",
       "       -5.81875148e-01, -2.04431342e-01,  6.00594769e-02,  7.56566685e-01,\n",
       "       -5.97913296e-01,  2.85785768e-01, -6.26180356e-02,  6.13273230e-01,\n",
       "       -6.87339338e-01, -1.13946326e+00, -1.83431064e-01,  1.16967055e+00,\n",
       "        1.52219717e+00, -1.58711827e+00, -1.27644045e+00, -3.68650379e-01,\n",
       "       -2.34936091e-01, -1.27616552e+00,  3.55781120e-02,  9.51830977e-01,\n",
       "       -4.63551203e-01,  2.44934778e-02, -2.07613125e-01,  1.59160885e+00,\n",
       "        6.70285398e-01, -3.71670759e-01, -1.65890254e-01,  6.77726155e-02,\n",
       "        1.23635841e+00,  4.65843083e-01,  1.77320743e-01, -1.38710963e-01,\n",
       "        2.06516469e-01, -1.34392531e-01,  2.14667850e-01,  4.97546260e-01,\n",
       "        1.68730729e+00,  6.63333659e-01,  1.82132811e+00,  1.80770008e+00,\n",
       "       -1.89186561e+00, -2.83831591e-01,  3.83785329e-01,  7.58332692e-01,\n",
       "       -4.04916896e-01, -8.56339590e-01,  5.82533254e-02,  4.53446230e-01,\n",
       "       -3.44368886e-01, -2.01463207e+00, -1.12494047e+00, -2.49978074e-01,\n",
       "       -5.58607465e-01, -7.14177819e-01, -8.24231551e-01,  4.30503219e-01,\n",
       "       -4.42596405e-01, -1.38864104e+00,  6.31328434e-01,  2.80791873e-01,\n",
       "        5.39772840e-02, -1.58644090e+00,  1.09596365e-01,  4.94814519e-01,\n",
       "       -9.02083560e-01, -2.79709838e-01, -5.24624894e-01, -1.88935120e+00,\n",
       "        1.15136197e-01, -3.62033927e-01,  4.10247181e-01,  2.65725055e-01,\n",
       "       -1.31443572e+00,  5.90850879e-01,  2.92309552e+00, -1.17455661e+00,\n",
       "        4.62083962e-01, -1.82224109e-01,  4.90699620e-01, -6.96602443e-01,\n",
       "       -6.23537630e-01,  1.66221443e+00, -1.40015640e+00, -1.10976405e+00,\n",
       "        7.92136788e-01, -1.10346203e+00,  1.00704811e+00, -5.08118538e-01,\n",
       "        2.83994666e-01,  4.75217340e-01, -1.58914914e-01, -1.51255705e+00,\n",
       "       -1.02458182e+00,  1.53862512e-01, -1.16712975e+00, -1.30390236e-02,\n",
       "        2.59372754e-01, -3.37028495e+00, -1.30910111e-01,  5.66250511e-01,\n",
       "        9.29066892e-01, -2.27322386e+00, -9.60353919e-01, -5.07605663e-01,\n",
       "        7.99613161e-02,  1.78274603e+00,  1.84465012e-01, -4.28879368e-01,\n",
       "       -5.25271868e-01, -9.26728261e-01,  7.77512199e-02, -8.18325612e-01,\n",
       "       -1.74656603e+00, -6.57021169e-01,  1.14946583e+00,  3.56725645e-02,\n",
       "       -1.65392852e+00,  8.41068015e-02,  1.16306267e+00,  4.48799811e-01,\n",
       "        7.59037773e-02, -1.02094738e+00, -1.92883741e+00,  3.66365668e-01,\n",
       "        5.57736943e-01, -1.45712346e+00,  2.29731838e+00,  2.40965937e-01,\n",
       "       -2.44832638e+00,  4.81820858e-01, -1.45538881e-02, -4.14884292e-01,\n",
       "        4.05335989e-02, -3.86561136e-01,  1.62354593e-01, -1.07403026e+00,\n",
       "        9.14490375e-02,  2.73819190e+00, -4.62779524e-01,  7.72174756e-02,\n",
       "        1.59410500e+00, -1.78740062e-01,  2.94473150e-01, -9.55252129e-01,\n",
       "       -3.65601110e-01, -1.69603343e-01, -7.67140504e-01,  2.98509380e-01,\n",
       "        3.65978291e-01, -5.09441410e-02, -1.07758147e+00,  1.37340866e+00,\n",
       "       -1.94859675e+00, -7.18247238e-01,  4.80060234e-01,  5.20766299e-01,\n",
       "       -2.11518828e+00,  5.79094914e-01,  5.46706733e-01,  1.49062134e+00,\n",
       "        5.87443075e-01,  1.57803647e-01,  1.00443075e+00, -6.32140513e-01,\n",
       "        1.04056374e+00,  3.63399334e-01, -2.01938026e+00, -3.63640961e-01,\n",
       "       -2.90149666e-01, -2.97499080e-01, -2.74932989e+00, -3.04688677e-01,\n",
       "       -1.27637059e+00,  6.68617060e-01, -1.35897259e+00,  2.50497180e+00,\n",
       "       -1.44566622e+00,  3.94220232e-01, -1.31524667e+00, -1.37678167e+00,\n",
       "        8.11491251e-01, -7.55409485e-02,  5.81200842e-02, -1.88265992e+00,\n",
       "        1.39552922e+00, -9.63064103e-02, -1.09502353e+00, -9.71168168e-01,\n",
       "       -9.35259626e-01, -9.92988045e-01,  1.20983819e+00,  1.76807343e+00,\n",
       "        3.67030078e-01, -5.06155770e-01,  7.76301729e-01,  2.49129239e-01,\n",
       "        1.48741562e-01,  2.36906306e-01,  3.85987061e-01, -1.42042620e-01,\n",
       "       -7.51060597e-01,  5.72213467e-01, -3.17292561e-01,  1.54467437e+00,\n",
       "       -8.52325406e-01, -2.98590481e-01,  2.45354060e-01,  1.01237366e+00,\n",
       "       -2.92573949e-01, -8.26074326e-01, -2.32266600e+00,  4.06022080e-01,\n",
       "        7.15594420e-01,  6.33061310e-01, -4.53715335e-01, -5.26516894e-01,\n",
       "        8.33757477e-01,  1.62968830e-02,  3.45429053e-01, -8.60464736e-02,\n",
       "        6.09678018e-01,  8.59023617e-01, -2.32064386e-01,  7.78385003e-01,\n",
       "       -4.67762669e-01,  8.97095882e-01, -6.10985449e-01,  6.69003357e-01,\n",
       "        7.95336177e-01, -1.65204589e+00,  9.40548686e-01,  9.74902774e-01,\n",
       "       -6.02600934e-01, -5.98218694e-01,  3.48961724e-01, -3.40024056e-01,\n",
       "        7.22900669e-03,  7.10967277e-01, -4.99880748e-01, -9.72355560e-01,\n",
       "        1.00751377e+00,  2.00418427e+00,  3.27724505e-01, -2.64872731e-01,\n",
       "       -1.33835723e+00, -2.92650629e-01,  5.50512069e-02, -4.66863881e-01,\n",
       "       -7.75474142e-01, -8.24513811e-01, -9.44844474e-01,  1.75078008e+00,\n",
       "        2.12176170e+00,  3.38478876e-01,  9.56428348e-01, -3.09792066e-01,\n",
       "       -7.33959412e-03, -5.23632032e-01,  1.80230743e-01, -2.03129040e+00,\n",
       "       -3.45844002e-01, -6.47525023e-01, -3.96788703e-01,  1.05711920e+00,\n",
       "       -6.78025398e-01,  6.71606748e-02, -4.56824730e-01,  1.29046042e+00,\n",
       "       -9.76618424e-01,  8.56672452e-01, -1.47524538e-01,  1.00330849e+00,\n",
       "       -1.43366535e+00, -2.47886106e-01,  1.58033543e-01,  1.47680620e-02,\n",
       "        1.35856053e+00, -1.54778153e+00,  1.35943665e-01, -1.38273136e-03,\n",
       "       -1.84924836e-01, -1.11691602e-01, -2.41716229e-01,  7.01741055e-01,\n",
       "        8.46697930e-01,  7.74231867e-01,  2.37113276e-01,  7.16033860e-01,\n",
       "       -1.93812442e-01, -6.24496643e-01,  1.04629796e+00, -1.37279569e+00,\n",
       "        2.26439877e+00,  2.61208873e-01, -4.79466964e-01,  1.50934422e-01,\n",
       "        5.78149120e-01,  1.14285059e+00,  9.04703243e-02, -5.87774164e-01,\n",
       "        3.54036860e-01, -4.18642911e-01, -9.01617414e-01,  1.43495091e+00,\n",
       "        2.23589338e-01, -6.74970320e-01, -3.76867719e-01, -5.37678524e-01,\n",
       "       -1.31184389e+00, -1.25418788e+00, -1.01761572e+00,  6.93892989e-02,\n",
       "       -1.84038462e-01,  1.78835633e+00, -4.46046076e-01, -2.68792785e+00,\n",
       "        2.31133798e-01, -1.10652677e+00,  1.01586824e+00, -4.30072622e-01,\n",
       "        2.11833379e-01, -7.24643196e-01,  1.61026263e+00, -1.14377186e+00,\n",
       "       -9.35586772e-01,  1.84488042e+00,  1.51855049e+00,  3.76753166e-01,\n",
       "        2.68218037e-01, -7.30665311e-01,  3.75982552e-01, -4.30651201e-01,\n",
       "        4.97762530e-01, -2.72418581e-01,  6.90864037e-02, -1.26889045e-01,\n",
       "        1.04883010e+00,  2.97425473e-01,  7.93504480e-01,  7.87666769e-01,\n",
       "       -2.59104144e+00, -2.96406883e-01, -1.55645601e+00, -9.33913830e-02,\n",
       "        9.54476285e-01, -2.13887221e-01, -2.54223829e-01, -1.77938347e+00,\n",
       "       -2.21973329e+00, -2.03081869e-01,  7.94041333e-01,  1.58749674e-02,\n",
       "        3.29365157e-01,  6.08090990e-02,  2.39603934e+00,  1.11958375e+00,\n",
       "       -4.22733174e-01, -4.64300131e-01, -2.41800908e-01, -8.93972993e-01,\n",
       "        5.51062595e-01, -2.83101346e-01,  1.01093031e+00, -3.70471333e-01,\n",
       "       -4.58170046e-01, -1.49724126e+00,  5.50622293e-01, -1.16868216e+00,\n",
       "       -8.30837466e-01, -2.48400373e-01, -1.21312181e+00, -1.07362154e+00,\n",
       "       -4.91815891e-02, -4.29417854e-01,  2.55320398e-01,  2.17257798e-01,\n",
       "        2.08668671e+00, -4.70083594e-01,  5.90471619e-01, -2.17669817e+00,\n",
       "       -8.26717687e-01, -6.31293278e-01,  1.15262452e+00,  2.15427768e-01,\n",
       "       -9.43066456e-01,  8.59347986e-01,  1.41094078e+00,  3.87346947e-01,\n",
       "        2.51412565e-01, -7.90715839e-01, -3.24338997e-01, -8.25951660e-01,\n",
       "       -1.39595233e-01,  4.61163405e-01, -1.07180201e+00, -1.20478582e+00,\n",
       "       -7.72490929e-01,  8.85674991e-01, -6.36759076e-01, -1.08732237e-01,\n",
       "       -6.33845807e-02,  3.99179431e-01,  1.49754377e+00, -1.33451560e+00,\n",
       "        5.80599247e-01, -1.06895108e-01,  1.24494675e+00,  2.71560629e-01,\n",
       "        3.49745508e-01,  4.96613040e-01,  1.25119443e+00, -1.31842542e-01,\n",
       "        1.64602031e+00, -6.46753704e-01, -2.06288632e-01, -3.97794764e-01,\n",
       "       -5.80449709e-01,  1.76305924e-01,  6.38491063e-01,  2.31704947e+00,\n",
       "        9.45788647e-01, -7.28307132e-01, -4.45664336e-01,  1.25590227e+00,\n",
       "        9.49718708e-01, -1.28004916e-01, -1.33348797e-01, -1.00711503e+00,\n",
       "       -2.10162581e-01,  8.96410845e-01, -6.62449194e-01, -5.77408237e-01,\n",
       "       -2.81808493e-01, -9.01468026e-01, -1.60427373e+00,  2.01746389e-02,\n",
       "       -2.20597849e+00,  2.70381720e-01,  1.08587002e+00,  3.08687608e-01,\n",
       "       -2.00155923e-01,  6.32526405e-01,  1.29525516e+00,  2.84959840e-01,\n",
       "       -9.27082924e-01,  2.64445679e-01,  7.46047393e-01, -1.81646531e+00,\n",
       "       -6.53787837e-01,  4.57840146e-01, -2.05961225e-01,  7.24038674e-01,\n",
       "        1.09532887e+00,  1.31569164e-01,  7.08675613e-01,  7.46011600e-02,\n",
       "        2.46221980e+00, -1.99075784e-01,  1.33404830e+00, -2.16450020e-01,\n",
       "       -1.80515950e-01, -4.08548089e-01, -3.56272632e-01, -1.44326469e+00,\n",
       "        9.19251283e-01,  5.07490333e-01,  4.69436988e-01,  1.99808476e+00,\n",
       "        8.93995993e-01,  2.02226399e+00, -7.83081402e-01,  1.54076834e+00,\n",
       "       -9.65245214e-01,  5.52414240e-01,  2.33016264e+00, -1.46403648e-01,\n",
       "       -3.38927624e-01,  4.34340289e-01,  1.24215900e+00, -3.69801142e-01,\n",
       "        2.34366710e-02,  9.68652004e-01,  5.73478137e-01, -8.28350265e-01,\n",
       "        6.81619296e-01, -1.39382635e+00,  1.24287175e+00, -1.24318586e+00,\n",
       "        1.32827649e-01,  1.35565700e+00,  6.60685480e-01, -4.52479341e-01,\n",
       "       -6.98578300e-01, -1.08055533e+00, -2.14487750e-01,  1.49015784e+00,\n",
       "        8.44501133e-02,  2.05658681e+00,  1.17633125e+00, -1.89877570e-01,\n",
       "        3.06176471e-01,  1.84496968e-01,  1.36221328e+00, -5.17461963e-01,\n",
       "        7.46483313e-01,  7.74095482e-01,  1.04674937e+00, -1.30357532e+00,\n",
       "       -1.77450353e+00, -7.66259181e-01,  6.19519088e-01,  3.66072005e-01,\n",
       "       -1.18331009e+00, -1.07806093e+00,  2.50770076e-01,  9.59915487e-01,\n",
       "       -1.16623649e+00,  1.30187241e+00, -1.12638478e+00,  4.58402103e-02,\n",
       "       -1.21725457e+00, -6.33238960e-02, -1.06444098e+00,  6.02161474e-01,\n",
       "        6.62335660e-01, -7.96536207e-01,  1.19382528e+00, -8.21188749e-01,\n",
       "       -4.94525723e-01,  5.99572669e-01, -3.21081094e-01, -1.63535393e+00,\n",
       "       -3.62634667e-01, -8.43302822e-01,  6.83374692e-01, -9.95248148e-01,\n",
       "       -5.79531733e-01, -1.29480962e+00,  1.94346550e-02, -1.38727468e+00,\n",
       "       -1.49765047e+00,  1.92285903e-01,  1.69643325e+00,  1.22009996e+00,\n",
       "        3.22352949e-01, -2.42356987e-01, -7.16262339e-01, -1.33753304e+00,\n",
       "        1.10270077e+00, -1.41941391e+00, -3.79355281e-01,  9.37320613e-01,\n",
       "       -1.78375778e+00,  4.33544895e-01, -1.21907746e+00, -4.94315836e-01,\n",
       "        3.31624028e-02, -8.64917195e-01,  9.15715764e-01, -3.05149543e-01,\n",
       "       -2.32943068e+00,  1.39201825e-01,  1.47569359e+00,  4.17646585e-01,\n",
       "        1.34856124e+00,  5.08663385e-02, -2.44735098e-01,  7.89644286e-01,\n",
       "       -9.98233982e-01,  2.74240632e-01,  6.95958725e-01,  1.51688341e+00,\n",
       "       -2.24528116e+00, -2.40467851e-01,  1.49614762e+00,  4.87578641e-01,\n",
       "        1.31312792e+00, -1.93425109e-01,  3.16798893e-03,  3.74026489e-01,\n",
       "        1.72617073e-01, -4.09179285e-01, -5.16656746e-01,  1.29681337e-01,\n",
       "        7.21916597e-01, -6.92539185e-01, -3.50082378e-01,  1.14741807e+00,\n",
       "       -2.49984130e-01, -1.92406770e-01, -8.14727295e-01,  1.25087825e-01,\n",
       "       -6.09300190e-03, -5.69448303e-01, -1.07419793e+00,  5.82385013e-01,\n",
       "       -1.65157931e-01, -1.34360360e+00,  1.97400669e-01,  1.39272603e+00,\n",
       "        9.56808069e-01,  4.82248860e-01, -5.68595829e-01, -1.42423552e+00,\n",
       "        9.49946933e-01, -3.98027025e-01,  5.29674479e-01,  6.79760720e-01,\n",
       "        1.94675690e+00, -6.65886643e-01, -5.76159157e-01,  7.70781856e-01,\n",
       "        3.50815041e-02, -8.80958842e-02,  1.99834795e-01,  1.64617406e+00,\n",
       "        2.57574731e-01,  2.16400129e+00,  8.86876020e-01, -1.64463234e+00,\n",
       "        2.79934231e-01, -1.15656831e+00, -1.17003931e+00,  3.18263563e-02,\n",
       "        2.18214998e-01, -4.74305527e-02, -7.69463976e-02,  1.41243912e+00,\n",
       "       -3.02336354e-01,  2.38865425e-01,  2.74756371e+00, -1.21363122e-02,\n",
       "       -1.24819124e+00, -2.63721198e-02, -9.91707596e-01, -7.38915622e-01,\n",
       "        4.87418076e-01,  1.03502732e+00, -5.97251763e-01,  1.21711581e+00,\n",
       "        9.82451470e-01,  1.64481936e+00,  1.04867235e+00, -6.63081422e-01,\n",
       "        4.28578950e-01, -9.29758116e-01, -3.52447458e-01, -6.18333275e-01,\n",
       "        1.09773604e+00, -1.31458222e+00, -7.26710206e-01,  9.19769917e-01,\n",
       "        8.16436129e-01,  2.81005884e-01, -6.64933496e-02, -1.16574887e+00,\n",
       "       -3.52842595e-01, -4.97282371e-01,  8.46440131e-01, -5.33692932e-01,\n",
       "        1.12389036e+00, -1.60584252e+00, -4.10392835e-02, -4.32899075e-01,\n",
       "        2.27935894e+00,  8.88070857e-01, -7.51815397e-01,  6.15468382e-01,\n",
       "       -4.83141420e-01,  3.73042039e-01, -1.82928534e+00,  1.31848899e+00,\n",
       "        2.96671910e+00,  2.22708754e-01,  7.92648959e-01,  1.04852480e-01,\n",
       "       -1.11156588e+00, -1.45596744e+00, -1.12953049e+00, -1.14636245e+00,\n",
       "        5.29697521e-01, -1.97491475e-01,  5.19009803e-01,  7.30561371e-04,\n",
       "        5.08546671e-01, -3.34245675e-01, -1.34123336e+00, -5.09703974e-01,\n",
       "        3.91746094e-01,  3.99120274e-01, -3.47871364e-01,  5.04104940e-01,\n",
       "        1.02942046e+00, -7.31701872e-01, -7.03223900e-02, -1.61099968e+00,\n",
       "        1.62585959e-01, -5.89256296e-01, -4.73062356e-01, -1.33614142e-01,\n",
       "       -1.06844361e+00,  7.56722806e-01,  1.83924579e+00, -2.22737882e-02,\n",
       "       -1.42423127e+00, -8.18698330e-01,  4.26145686e-01,  4.01387017e-01,\n",
       "       -4.84135106e-01,  9.53848318e-02, -8.43665436e-01, -1.48282661e-01,\n",
       "        4.04175998e-01, -1.66004595e+00, -9.31817976e-02, -2.94349189e-01,\n",
       "       -8.85908969e-01,  1.43177913e+00,  2.06424136e-03, -1.90974550e+00,\n",
       "        1.29412794e+00, -9.59812550e-01, -4.86175575e-01,  1.62084013e+00,\n",
       "       -6.44826790e-02, -1.55392073e+00, -1.42391571e-01, -9.25416276e-01,\n",
       "        8.28808992e-01, -4.89672082e-01, -6.99857480e-01, -7.70923761e-01,\n",
       "       -9.08723853e-01,  1.63764025e-01,  9.77376645e-02, -8.81202664e-01,\n",
       "        6.48803897e-01,  3.31962573e-01,  2.54877129e-01,  1.78427738e+00,\n",
       "       -5.94321954e-01,  3.35140593e-01, -8.40430547e-01, -4.14190230e-01,\n",
       "        7.90565184e-01, -1.03406591e+00,  1.16042887e+00,  4.84507224e-01,\n",
       "       -9.74344632e-01,  4.41644471e-01, -5.98568661e-01,  1.77996706e+00,\n",
       "        9.27388593e-01, -5.77805422e-01, -2.36025417e-01, -1.06702236e+00,\n",
       "       -1.69883952e+00,  1.21684483e+00, -1.22413345e+00,  2.77185613e+00,\n",
       "        1.01895428e+00, -2.43302060e+00, -3.57051515e-02, -1.15601618e-01,\n",
       "        1.28901080e+00, -5.72894031e-01, -1.01179827e+00, -3.34201700e-01,\n",
       "       -6.30937520e-01,  1.13304488e+00, -1.37164275e+00, -1.35640590e+00,\n",
       "        3.41851188e-01, -5.13748662e-01,  2.00121661e+00,  3.55210613e-01,\n",
       "        1.36449271e-01, -1.87044890e-01,  2.19853199e+00,  2.92086464e-01,\n",
       "       -8.23306976e-01, -2.06573547e+00,  3.23262253e-01, -6.57351516e-01,\n",
       "       -1.33005660e+00,  1.71687307e+00,  9.28350773e-01, -2.36599929e-01,\n",
       "       -2.29992362e+00,  1.04308074e+00, -2.66818260e-01, -2.07154758e-01,\n",
       "        6.51940883e-02, -1.78692684e-01,  6.88403392e-01,  3.69456518e-01,\n",
       "       -3.76090004e-01, -1.71832869e-01,  2.37046650e-01, -1.26996985e+00,\n",
       "        3.14585190e-02, -1.34430259e+00,  1.85618281e+00,  8.24943129e-01,\n",
       "       -1.06673779e+00, -7.04840463e-01, -2.95685314e-01,  2.96057241e+00,\n",
       "        5.45518405e-01, -5.14095316e-01,  3.39896078e-01, -8.74125993e-01,\n",
       "       -9.36524201e-01, -3.31813551e-01, -1.23383265e+00, -1.36592966e+00,\n",
       "       -8.63071856e-01,  3.77458850e-01, -2.86022934e-01, -5.59984219e-01,\n",
       "        2.37278718e+00, -2.33268582e-01, -5.07536575e-01,  1.38830709e+00,\n",
       "       -1.08777509e-01,  4.80161801e-01, -3.37410690e+00, -1.69951981e+00,\n",
       "        1.92697342e+00,  4.16579245e-01, -2.24646781e-01, -6.22531901e-01,\n",
       "        3.65171874e-01,  9.94277634e-01, -1.61483123e+00, -1.24441037e+00,\n",
       "       -1.65525624e-01,  7.97181459e-01, -3.86355738e-01, -1.27183522e+00,\n",
       "       -2.57703602e+00,  5.19716607e-01, -1.58212067e+00,  1.27246870e+00,\n",
       "        1.25519462e-01, -2.90627640e-01,  4.29764093e-01,  4.34239191e-01,\n",
       "       -9.66440628e-01, -4.22621176e-02,  8.61016163e-01,  4.97627078e-02,\n",
       "        9.63326198e-01,  1.75515060e+00,  3.95133620e-02, -2.25671294e-01,\n",
       "       -3.14649935e-01,  3.30507933e-01, -4.71667747e-03, -1.78553468e+00,\n",
       "        4.73405984e-01,  7.46687805e-01, -1.12063771e+00, -1.10129811e-01,\n",
       "        7.00408266e-01,  8.76849663e-01,  2.15973224e+00, -3.38449179e-01,\n",
       "       -1.04850636e+00, -1.11399296e+00, -6.87937143e-01, -2.39705237e+00,\n",
       "       -3.36854307e-01,  9.81138349e-01,  4.44485848e-01,  6.78890386e-02,\n",
       "        4.68203801e-01,  4.28624381e-02, -3.15573830e-01,  8.58032021e-01])"
      ]
     },
     "execution_count": 35,
     "metadata": {},
     "output_type": "execute_result"
    }
   ],
   "source": [
    "model(X_st, target, iterations=0, alpha=1e-2)"
   ]
  },
  {
   "cell_type": "code",
   "execution_count": 37,
   "metadata": {},
   "outputs": [
    {
     "name": "stdout",
     "output_type": "stream",
     "text": [
      "В случае использования стохастического градиентного спуска функционал ошибки составляет 6.0643\n"
     ]
    }
   ],
   "source": [
    "w = np.random.randn(2) \n",
    "w_list = [w.copy()]\n",
    "errors = []\n",
    "eta = 0.15\n",
    "max_iter = 1e5\n",
    "min_weight_dist = 1e-8\n",
    "weight_dist = np.inf\n",
    "iter_num = 0\n",
    "lamb = 0.01 \n",
    "np.random.seed(1234)\n",
    "Q = [0]  \n",
    "while weight_dist > min_weight_dist and iter_num < max_iter:\n",
    "    \n",
    "   \n",
    "    train_ind = np.random.randint(data.shape[0])\n",
    "    \n",
    "    new_w = w - 2 * eta * np.dot(data[train_ind].T, (np.dot(data[train_ind], w) - target[train_ind])) / target.shape[0]\n",
    " \n",
    "    weight_dist = np.linalg.norm(new_w - w, ord=2)\n",
    "    \n",
    "    w_list.append(new_w.copy())\n",
    "    errors.append(mserror(data, new_w, target))\n",
    "    Q.append(Q[-1]*(1-lamb)+lamb*(np.dot(data[train_ind], w) - target[train_ind])**2)\n",
    "    iter_num += 1\n",
    "    w = new_w\n",
    "    \n",
    "w_list = np.array(w_list)\n",
    " \n",
    "print(f'В случае использования стохастического градиентного спуска функционал ошибки составляет {round(errors[-1], 4)}')"
   ]
  },
  {
   "cell_type": "code",
   "execution_count": 41,
   "metadata": {},
   "outputs": [
    {
     "data": {
      "image/png": "[encoded data removed]",
      "text/plain": [
       "<Figure size 432x288 with 1 Axes>"
      ]
     },
     "metadata": {
      "needs_background": "light"
     },
     "output_type": "display_data"
    }
   ],
   "source": [
    "plt.plot(range(len(errors)), errors)\n",
    "plt.title('MSE')\n",
    "plt.xlabel('Iteration number')\n",
    "plt.ylabel('MSE')\n",
    "plt.show()"
   ]
  },
  {
   "cell_type": "code",
   "execution_count": 39,
   "metadata": {},
   "outputs": [],
   "source": [
    "def model_reg2(data1, target, iterations, alpha=1e-4, lambda_=1e-8):\n",
    "    np.random.seed(42)\n",
    "    W = np.random.randn(data1.shape[0])\n",
    "    n = data1.shape[1]\n",
    "    for i in range(1, iterations+1):\n",
    "        y_pred = np.dot(W, data1)\n",
    "        err = mserror(target, y_pred)\n",
    "        W -= alpha * (1/n * 2 * np.dot((y_pred - target), data1.T) + lambda_ * W) \n",
    "        if i % (iterations / 10) == 0:\n",
    "            print(i, W, err)\n",
    "    return W"
   ]
  },
  {
   "cell_type": "code",
   "execution_count": 40,
   "metadata": {},
   "outputs": [
    {
     "data": {
      "text/plain": [
       "array([ 4.96714153e-01, -1.38264301e-01,  6.47688538e-01,  1.52302986e+00,\n",
       "       -2.34153375e-01, -2.34136957e-01,  1.57921282e+00,  7.67434729e-01,\n",
       "       -4.69474386e-01,  5.42560044e-01, -4.63417693e-01, -4.65729754e-01,\n",
       "        2.41962272e-01, -1.91328024e+00, -1.72491783e+00, -5.62287529e-01,\n",
       "       -1.01283112e+00,  3.14247333e-01, -9.08024076e-01, -1.41230370e+00,\n",
       "        1.46564877e+00, -2.25776300e-01,  6.75282047e-02, -1.42474819e+00,\n",
       "       -5.44382725e-01,  1.10922590e-01, -1.15099358e+00,  3.75698018e-01,\n",
       "       -6.00638690e-01, -2.91693750e-01, -6.01706612e-01,  1.85227818e+00,\n",
       "       -1.34972247e-02, -1.05771093e+00,  8.22544912e-01, -1.22084365e+00,\n",
       "        2.08863595e-01, -1.95967012e+00, -1.32818605e+00,  1.96861236e-01,\n",
       "        7.38466580e-01,  1.71368281e-01, -1.15648282e-01, -3.01103696e-01,\n",
       "       -1.47852199e+00, -7.19844208e-01, -4.60638771e-01,  1.05712223e+00,\n",
       "        3.43618290e-01, -1.76304016e+00,  3.24083969e-01, -3.85082280e-01,\n",
       "       -6.76922000e-01,  6.11676289e-01,  1.03099952e+00,  9.31280119e-01,\n",
       "       -8.39217523e-01, -3.09212376e-01,  3.31263431e-01,  9.75545127e-01,\n",
       "       -4.79174238e-01, -1.85658977e-01, -1.10633497e+00, -1.19620662e+00,\n",
       "        8.12525822e-01,  1.35624003e+00, -7.20101216e-02,  1.00353290e+00,\n",
       "        3.61636025e-01, -6.45119755e-01,  3.61395606e-01,  1.53803657e+00,\n",
       "       -3.58260391e-02,  1.56464366e+00, -2.61974510e+00,  8.21902504e-01,\n",
       "        8.70470682e-02, -2.99007350e-01,  9.17607765e-02, -1.98756891e+00,\n",
       "       -2.19671888e-01,  3.57112572e-01,  1.47789404e+00, -5.18270218e-01,\n",
       "       -8.08493603e-01, -5.01757044e-01,  9.15402118e-01,  3.28751110e-01,\n",
       "       -5.29760204e-01,  5.13267433e-01,  9.70775493e-02,  9.68644991e-01,\n",
       "       -7.02053094e-01, -3.27662147e-01, -3.92108153e-01, -1.46351495e+00,\n",
       "        2.96120277e-01,  2.61055272e-01,  5.11345664e-03, -2.34587133e-01,\n",
       "       -1.41537074e+00, -4.20645323e-01, -3.42714517e-01, -8.02277269e-01,\n",
       "       -1.61285712e-01,  4.04050857e-01,  1.88618590e+00,  1.74577813e-01,\n",
       "        2.57550391e-01, -7.44459158e-02, -1.91877122e+00, -2.65138754e-02,\n",
       "        6.02302099e-02,  2.46324211e+00, -1.92360965e-01,  3.01547342e-01,\n",
       "       -3.47117697e-02, -1.16867804e+00,  1.14282281e+00,  7.51933033e-01,\n",
       "        7.91031947e-01, -9.09387455e-01,  1.40279431e+00, -1.40185106e+00,\n",
       "        5.86857094e-01,  2.19045563e+00, -9.90536325e-01, -5.66297730e-01,\n",
       "        9.96513651e-02, -5.03475654e-01, -1.55066343e+00,  6.85629748e-02,\n",
       "       -1.06230371e+00,  4.73592431e-01, -9.19424234e-01,  1.54993441e+00,\n",
       "       -7.83253292e-01, -3.22061516e-01,  8.13517217e-01, -1.23086432e+00,\n",
       "        2.27459935e-01,  1.30714275e+00, -1.60748323e+00,  1.84633859e-01,\n",
       "        2.59882794e-01,  7.81822872e-01, -1.23695071e+00, -1.32045661e+00,\n",
       "        5.21941566e-01,  2.96984673e-01,  2.50492850e-01,  3.46448209e-01,\n",
       "       -6.80024722e-01,  2.32253697e-01,  2.93072473e-01, -7.14351418e-01,\n",
       "        1.86577451e+00,  4.73832921e-01, -1.19130350e+00,  6.56553609e-01,\n",
       "       -9.74681670e-01,  7.87084604e-01,  1.15859558e+00, -8.20682318e-01,\n",
       "        9.63376129e-01,  4.12780927e-01,  8.22060160e-01,  1.89679298e+00,\n",
       "       -2.45388116e-01, -7.53736164e-01, -8.89514430e-01, -8.15810285e-01,\n",
       "       -7.71017094e-02,  3.41151975e-01,  2.76690799e-01,  8.27183249e-01,\n",
       "        1.30018919e-02,  1.45353408e+00, -2.64656833e-01,  2.72016917e+00,\n",
       "        6.25667348e-01, -8.57157556e-01, -1.07089250e+00,  4.82472415e-01,\n",
       "       -2.23462785e-01,  7.14000494e-01,  4.73237625e-01, -7.28289127e-02,\n",
       "       -8.46793718e-01, -1.51484722e+00, -4.46514952e-01,  8.56398794e-01,\n",
       "        2.14093744e-01, -1.24573878e+00,  1.73180926e-01,  3.85317380e-01,\n",
       "       -8.83857436e-01,  1.53725106e-01,  5.82087184e-02, -1.14297030e+00,\n",
       "        3.57787360e-01,  5.60784526e-01,  1.08305124e+00,  1.05380205e+00,\n",
       "       -1.37766937e+00, -9.37825040e-01,  5.15035267e-01,  5.13785951e-01,\n",
       "        5.15047686e-01,  3.85273149e+00,  5.70890511e-01,  1.13556564e+00,\n",
       "        9.54001763e-01,  6.51391251e-01, -3.15269245e-01,  7.58969220e-01,\n",
       "       -7.72825215e-01, -2.36818607e-01, -4.85363548e-01,  8.18741394e-02,\n",
       "        2.31465857e+00, -1.86726519e+00,  6.86260190e-01, -1.61271587e+00,\n",
       "       -4.71931866e-01,  1.08895060e+00,  6.42800191e-02, -1.07774478e+00,\n",
       "       -7.15303709e-01,  6.79597749e-01, -7.30366632e-01,  2.16458590e-01,\n",
       "        4.55718399e-02, -6.51600348e-01,  2.14394409e+00,  6.33919022e-01,\n",
       "       -2.02514259e+00,  1.86454315e-01, -6.61786465e-01,  8.52433335e-01,\n",
       "       -7.92520738e-01, -1.14736441e-01,  5.04987279e-01,  8.65755194e-01,\n",
       "       -1.20029641e+00, -3.34501236e-01, -4.74945311e-01, -6.53329233e-01,\n",
       "        1.76545424e+00,  4.04981711e-01, -1.26088395e+00,  9.17861947e-01,\n",
       "        2.12215620e+00,  1.03246526e+00, -1.51936997e+00, -4.84234073e-01,\n",
       "        1.26691115e+00, -7.07669466e-01,  4.43819428e-01,  7.74634053e-01,\n",
       "       -9.26930472e-01, -5.95253561e-02, -3.24126734e+00, -1.02438764e+00,\n",
       "       -2.52568151e-01, -1.24778318e+00,  1.63241130e+00, -1.43014138e+00,\n",
       "       -4.40044487e-01,  1.30740577e-01,  1.44127329e+00, -1.43586215e+00,\n",
       "        1.16316375e+00,  1.02330610e-02, -9.81508651e-01,  4.62103474e-01,\n",
       "        1.99059696e-01, -6.00216877e-01,  6.98020850e-02, -3.85313597e-01,\n",
       "        1.13517345e-01,  6.62130675e-01,  1.58601682e+00, -1.23781550e+00,\n",
       "        2.13303337e+00, -1.95208780e+00, -1.51785095e-01,  5.88317206e-01,\n",
       "        2.80991868e-01, -6.22699520e-01, -2.08122250e-01, -4.93000935e-01,\n",
       "       -5.89364757e-01,  8.49602097e-01,  3.57015486e-01, -6.92909595e-01,\n",
       "        8.99599875e-01,  3.07299521e-01,  8.12862119e-01,  6.29628842e-01,\n",
       "       -8.28995011e-01, -5.60181040e-01,  7.47293605e-01,  6.10370265e-01,\n",
       "       -2.09015940e-02,  1.17327383e-01,  1.27766490e+00, -5.91571389e-01,\n",
       "        5.47097381e-01, -2.02192652e-01, -2.17681203e-01,  1.09877685e+00,\n",
       "        8.25416349e-01,  8.13509636e-01,  1.30547881e+00,  2.10038416e-02,\n",
       "        6.81952971e-01, -3.10266757e-01,  3.24166352e-01, -1.30143054e-01,\n",
       "        9.69959650e-02,  5.95157025e-01, -8.18220683e-01,  2.09238728e+00,\n",
       "       -1.00601738e+00, -1.21418861e+00,  1.15811087e+00,  7.91662694e-01,\n",
       "        6.24119817e-01,  6.28345509e-01, -1.22467728e-02, -8.97254371e-01,\n",
       "        7.58045582e-02, -6.77161712e-01,  9.75119733e-01, -1.47057382e-01,\n",
       "       -8.25497197e-01, -3.21385842e-01,  4.12931454e-01, -5.63724553e-01,\n",
       "       -8.22220396e-01,  2.43687211e-01,  2.44966571e-01, -5.06943175e-01,\n",
       "       -4.71038306e-01,  2.32049937e-01, -1.44808434e+00, -1.40746377e+00,\n",
       "       -7.18444221e-01, -2.13447152e-01,  3.10907566e-01,  1.47535622e+00,\n",
       "        8.57659623e-01, -1.59938530e-01, -1.90162079e-02, -1.00252936e+00,\n",
       "       -1.85131360e-02, -2.88658639e-01,  3.22718560e-01, -8.27230944e-01,\n",
       "        5.19346514e-01,  1.53273891e+00, -1.08760148e-01,  4.01711722e-01,\n",
       "        6.90143992e-01, -4.01220472e-01,  2.24092482e-01,  1.25924008e-02,\n",
       "        9.76760985e-02, -7.73009784e-01,  2.45101743e-02,  4.97998291e-01,\n",
       "        1.45114361e+00,  9.59270826e-01,  2.15318246e+00, -7.67347563e-01,\n",
       "        8.72320637e-01,  1.83342006e-01,  2.18980293e+00, -8.08298285e-01,\n",
       "       -8.39721842e-01, -5.99392645e-01, -2.12389572e+00, -5.25755022e-01,\n",
       "       -7.59132662e-01,  1.50393786e-01,  3.41755976e-01,  1.87617084e+00,\n",
       "        9.50423838e-01, -5.76903656e-01, -8.98414671e-01,  4.91919172e-01,\n",
       "       -1.32023321e+00,  1.83145877e+00,  1.17944012e+00, -4.69175652e-01,\n",
       "       -1.71313453e+00,  1.35387237e+00, -1.14539845e-01,  1.23781631e+00,\n",
       "       -1.59442766e+00, -5.99375023e-01,  5.24369972e-03,  4.69805938e-02,\n",
       "       -4.50065471e-01,  6.22849932e-01, -1.06762043e+00, -1.42379485e-01,\n",
       "        1.20295632e-01,  5.14438834e-01,  7.11614878e-01, -1.12464209e+00,\n",
       "       -1.53411417e+00,  1.27767682e+00,  3.32314012e-01, -7.48486537e-01,\n",
       "        1.55115198e+00,  1.15674634e-01,  1.17929718e+00,  6.75184814e-02,\n",
       "        2.06074792e+00,  1.75534084e+00, -2.48964148e-01,  9.71570951e-01,\n",
       "        6.45375950e-01,  1.36863156e+00, -9.64923461e-01,  6.86051460e-01,\n",
       "        1.05842449e+00, -1.75873949e+00, -1.18325851e+00, -2.03923218e+00,\n",
       "       -2.69406834e-01,  7.17542256e-01,  1.50235705e+00,  7.40947804e-02,\n",
       "        1.62861555e+00, -1.38010146e+00, -1.70338244e+00, -5.55476989e-02,\n",
       "        3.84065449e-01, -3.26947481e-02, -2.06744210e+00, -8.91200395e-02,\n",
       "       -1.30446950e+00,  6.69672549e-01,  3.66598246e-01, -9.39879786e-01,\n",
       "       -5.13866917e-01, -1.05921352e+00, -6.26790973e-02,  9.55142321e-01,\n",
       "       -9.85726046e-01,  5.04046516e-01, -5.30257618e-01, -7.92872832e-01,\n",
       "       -1.07030360e-01, -1.03524232e+00, -5.53649305e-01, -1.19787789e+00,\n",
       "        1.96472513e+00,  3.52635520e-02, -6.99725508e-01,  2.13979911e-01,\n",
       "       -1.12328050e-01, -2.20969600e-01,  6.14166700e-01,  7.57507710e-01,\n",
       "       -5.30501148e-01, -5.75818241e-01, -2.75051697e-01, -2.30192116e+00,\n",
       "       -1.51519106e+00,  1.36687427e+00,  1.64496771e+00, -2.49036040e-01,\n",
       "        5.76556963e-01,  3.11250155e-01,  3.07888081e+00,  1.11957491e+00,\n",
       "       -1.27917591e-01, -9.55540441e-01, -1.60644632e+00,  2.03463636e-01,\n",
       "       -7.56350745e-01, -1.42225371e+00, -6.46572884e-01, -1.08154800e+00,\n",
       "        1.68714164e+00,  8.81639757e-01, -7.97264132e-03,  1.47994414e+00,\n",
       "        7.73683076e-02, -8.61284201e-01,  1.52312408e+00,  5.38910044e-01,\n",
       "       -1.03724615e+00, -1.90338678e-01, -8.75618253e-01, -1.38279973e+00,\n",
       "        9.26177548e-01,  1.90941664e+00, -1.39856757e+00,  5.62969237e-01,\n",
       "       -6.50642569e-01, -4.87125384e-01, -5.92393924e-01, -8.63990770e-01,\n",
       "        4.85216279e-02, -8.30950116e-01,  2.70456826e-01, -5.02381094e-02,\n",
       "       -2.38948047e-01, -9.07563662e-01, -5.76771331e-01,  7.55391226e-01,\n",
       "        5.00917188e-01, -9.77555245e-01,  9.93323054e-02,  7.51387123e-01,\n",
       "       -1.66940528e+00,  5.43360192e-01, -6.62623759e-01,  5.70598669e-01,\n",
       "       -7.63259157e-01, -1.80488210e+00, -1.62754244e+00,  4.80849467e-02,\n",
       "        2.59722502e-01, -9.04316625e-01,  6.38592459e-01, -1.66152006e+00,\n",
       "       -6.60797986e-02, -1.21101620e+00, -6.51836108e-01,  4.73986713e-02,\n",
       "       -8.60413365e-01, -3.84555544e-01,  1.00629281e+00, -5.76891870e-01,\n",
       "        8.35692112e-01, -1.12970685e+00,  5.29804178e-01,  1.44156862e+00,\n",
       "       -2.47164450e+00, -7.96895255e-01,  5.77072127e-01, -2.03045386e-01,\n",
       "        3.71145873e-01, -6.03985187e-01,  8.65897875e-02, -1.55677235e-01,\n",
       "        1.16778206e+00,  2.54420843e-01,  3.37602662e-01, -4.11876966e-01,\n",
       "       -4.87606224e-01, -4.32558188e-01,  3.94452142e-01, -4.20984481e-01,\n",
       "        2.89774857e-01,  2.07540080e+00,  8.71124703e-01, -3.26023532e-01,\n",
       "        1.20121392e+00, -4.08075373e-01, -2.03812454e+00, -1.00808631e+00,\n",
       "       -1.87079192e+00, -3.51513484e-01,  1.84183792e-02,  1.67643731e+00,\n",
       "        3.26927374e-01, -2.19100529e-01,  8.29405581e-01, -2.21113531e+00,\n",
       "        2.35614558e-01,  7.70865194e-01, -1.47858625e+00,  1.14375404e+00,\n",
       "        3.38496407e-01, -4.15287914e-01,  6.32781866e-01,  2.27069286e+00,\n",
       "        1.81866255e-01,  2.48220586e-01, -4.59360900e-01, -8.49844369e-01,\n",
       "        8.30335817e-01, -8.56083826e-01,  7.15662372e-02, -4.77657447e-01,\n",
       "        4.78979826e-01,  3.33662105e-01,  1.03753994e+00, -5.10016399e-01,\n",
       "       -2.69874935e-01, -9.78763716e-01, -4.44293260e-01,  3.77300493e-01,\n",
       "        7.56988617e-01, -9.22165324e-01,  8.69605920e-01,  1.35563786e+00,\n",
       "        4.13434903e-01,  1.87679581e+00, -7.73789199e-01, -1.24465470e+00,\n",
       "       -1.77872025e+00,  1.49604431e+00,  6.54365656e-01, -5.55846709e-02,\n",
       "        2.79968626e-01, -1.12548905e+00,  2.44575198e+00,  1.29221182e-01,\n",
       "        1.09394795e-01,  7.25766624e-01,  4.81009232e-01,  2.23884024e-01,\n",
       "       -7.90474455e-01,  4.71468357e-01,  1.88202450e+00,  1.34542005e+00,\n",
       "        1.59318663e+00, -5.11215676e-01, -9.89604820e-01, -1.25786920e-01,\n",
       "        5.57249123e-02,  1.09419152e+00, -1.69246463e+00,  1.52955032e+00,\n",
       "       -1.58007899e-01, -4.26881070e-01, -1.01210438e+00, -1.65485667e+00,\n",
       "        8.23170584e-01,  7.33179672e-02, -1.28996090e+00, -1.29507877e+00,\n",
       "       -3.35784699e-01,  1.66902153e+00, -2.59591351e-01, -1.50314295e+00,\n",
       "       -2.45743064e-01, -2.72723570e-01, -2.69688664e+00, -5.42948665e-02,\n",
       "       -2.30934530e-01,  6.96206365e-01,  1.84895609e+00,  1.12656503e+00,\n",
       "       -2.68888691e-01, -1.10652591e+00,  2.57335980e+00,  5.92184340e-02,\n",
       "        1.39292919e-02, -2.41250871e-02,  1.98084761e-01, -1.44360412e-01,\n",
       "       -5.73662007e-01, -5.46858941e-01, -3.27532702e-02, -5.43424771e-01,\n",
       "       -7.12845783e-01,  1.06430228e-01, -2.54977217e-01,  1.50399299e+00,\n",
       "       -2.65096981e+00,  1.09150685e+00,  1.24608519e+00, -2.07339023e+00,\n",
       "       -3.42687594e-01, -3.71440866e-01, -1.40751169e+00, -7.77816688e-01,\n",
       "       -1.11057585e+00,  1.75227044e+00,  9.35678393e-01,  1.27155509e+00,\n",
       "        7.21672064e-01, -1.12905177e+00, -5.24520266e-01,  4.89374561e-01,\n",
       "       -1.22212781e+00,  7.12998430e-01, -2.40325398e-01, -3.74820808e-01,\n",
       "        7.10959968e-01,  4.44263311e-01, -3.60966166e-01,  1.15932980e+00,\n",
       "       -1.08106333e+00,  6.15935607e-01,  5.93101258e-01, -3.09546439e-01,\n",
       "        3.26133022e-01, -1.25111358e+00,  9.24027019e-01, -1.84902136e-01,\n",
       "       -5.22723021e-01,  1.04900923e+00, -7.04343691e-01, -1.40846130e+00,\n",
       "       -1.55662917e+00,  6.06009951e-01, -1.28042935e+00,  1.75479418e+00,\n",
       "       -2.08192941e+00,  1.69645637e+00,  2.11017467e-01, -9.67131119e-02,\n",
       "       -5.44919087e-01,  3.99136114e-01, -3.76347024e-02,  1.10330188e+00,\n",
       "        1.14227649e-01,  1.50301761e-01, -3.63612212e-01, -5.69456237e-02,\n",
       "        3.07801769e-01, -1.71016839e+00, -1.34818542e+00,  7.43264094e-01,\n",
       "        1.70865438e-01, -1.83983336e-01,  1.84339331e-02,  3.47581705e-01,\n",
       "       -5.39759680e-01, -7.78304725e-01,  1.95845255e-01, -9.78372778e-01,\n",
       "        4.08252756e-01, -1.70258360e+00,  1.02915564e+00,  4.72597482e-01,\n",
       "        2.56029734e-01,  9.82690984e-01,  1.66547444e+00,  1.01437007e+00,\n",
       "       -1.84087423e+00, -1.27957697e+00, -6.24818578e-01,  2.60910502e-02,\n",
       "        5.17659020e-01, -7.25743813e-01,  1.86766764e-01, -7.55382932e-01,\n",
       "       -6.11517803e-01, -1.40666110e+00, -9.23233246e-01, -1.35168461e+00,\n",
       "       -9.75873253e-01,  1.05364180e+00, -9.49398889e-01,  2.63238206e+00,\n",
       "        4.93317901e-01,  1.84836124e-01, -8.58357780e-01,  7.00309879e-01,\n",
       "       -5.75637826e-01,  1.22009815e-01,  2.56008454e+00, -9.60598997e-02,\n",
       "        1.14927333e+00, -7.03176425e-01, -3.49884905e-02,  1.77080064e+00,\n",
       "       -6.26967058e-01,  1.81244856e+00,  7.07751935e-01, -5.62466776e-01,\n",
       "        6.32407739e-01,  9.72554450e-01,  6.21809962e-01, -1.57022472e+00,\n",
       "       -7.27137176e-01, -2.47518636e-01, -7.44334291e-02,  6.20672098e-01,\n",
       "        1.77701001e-01, -1.33534436e+00,  3.80197851e-01,  6.10585745e-01,\n",
       "        5.59790448e-01,  1.08078073e+00,  8.33922155e-01,  4.59180079e-01,\n",
       "       -7.01657115e-02, -1.66096093e+00,  4.29618219e-01,  2.07687687e-01,\n",
       "        2.71578837e-01, -1.27674858e+00, -1.08105654e+00,  1.05315285e+00,\n",
       "       -3.95551539e-02,  6.81500697e-01,  2.83183761e-02,  2.97561395e-02,\n",
       "        9.38283806e-01, -5.16044728e-01,  9.61207769e-02, -4.62275289e-01,\n",
       "       -4.34496227e-01, -3.09172123e-01,  2.22133772e-01, -4.78748622e-01,\n",
       "        1.25575613e+00, -8.94607302e-01, -1.86871644e-01, -4.39731058e-01,\n",
       "        1.44697788e+00,  1.96554777e-01,  1.03184454e+00, -1.48556037e+00,\n",
       "        2.67050266e-01,  8.89630796e-01,  8.22839893e-02,  1.06548038e+00,\n",
       "       -5.17288450e-01,  1.40934744e+00,  2.29889812e+00, -3.62838560e-01,\n",
       "       -4.45502521e-01,  1.45338448e+00,  1.57957215e+00, -5.22860027e-01,\n",
       "       -4.20186817e-01, -2.81784609e-01, -1.34445051e+00, -9.18651946e-01,\n",
       "       -1.00414077e+00, -7.67797565e-01, -3.46848874e-02,  2.34214733e-01,\n",
       "        1.55050049e+00, -9.98354041e-01,  9.84322398e-01, -2.13988844e-01,\n",
       "       -4.94637097e-02,  6.74819492e-01, -1.12272202e+00,  3.82409746e-01,\n",
       "        1.66452208e-01,  4.92451264e-01,  2.89168644e-01,  2.45530014e+00,\n",
       "       -6.37739984e-01, -5.30996955e-01, -6.23140526e-01, -5.55477119e-01,\n",
       "       -6.37387127e-01,  1.18901653e+00,  1.42050425e+00, -5.70746294e-01,\n",
       "       -8.32355573e-01,  4.71415556e-01, -5.52223044e-01,  6.32931818e-01,\n",
       "        2.02923021e-01, -1.51574411e+00,  1.54750520e+00,  1.79587767e+00,\n",
       "       -6.12788690e-01, -3.87701560e-01,  2.85865391e-01,  3.34456790e-01,\n",
       "        6.58544273e-01,  2.01020454e+00, -1.76947227e-01, -7.98297245e-01,\n",
       "       -1.37931923e+00, -7.30930040e-01, -3.31269729e-02,  1.79455786e+00,\n",
       "       -5.17611299e-01,  2.23787952e-01, -1.64228961e-02,  1.18839327e+00,\n",
       "        2.52693243e+00, -5.30868773e-01, -4.89439443e-01,  1.04416088e+00,\n",
       "        6.81891490e-01,  1.84670733e+00,  5.83928185e-01, -3.59292091e-01,\n",
       "        5.90654831e-01,  1.10870358e+00,  8.20482181e-01,  5.07274031e-01,\n",
       "        1.06667469e+00,  1.16929559e+00,  1.38215899e+00,  6.48709888e-01,\n",
       "       -1.67118080e-01,  1.46713686e-01,  1.20650897e+00, -8.16935671e-01,\n",
       "        3.68673309e-01, -3.93338812e-01,  2.87448229e-02,  1.27845186e+00,\n",
       "        1.91099068e-01,  4.64365482e-02, -1.35985614e+00,  7.46253566e-01,\n",
       "        6.45484181e-01,  2.16325472e+00, -3.07778235e-01,  2.19150328e-01,\n",
       "        2.49383684e-01,  1.57745328e+00, -9.52955324e-02,  2.79021526e-01,\n",
       "        6.07896510e-01,  1.86609123e-01, -4.46433615e-01,  1.94089993e-01,\n",
       "        1.07363175e+00, -1.02651530e+00,  1.32969674e-01, -7.00120815e-01,\n",
       "        1.19504663e+00, -1.52318690e+00, -5.58921847e-01,  3.77211875e-01,\n",
       "        1.56552403e+00, -6.57502611e-02, -5.55199527e-01,  1.88115707e+00,\n",
       "       -1.44801390e+00, -2.19880596e+00,  4.40014450e-01, -5.02054224e-01,\n",
       "       -1.02123282e+00,  7.08356447e-01,  2.43800714e-01, -5.64078631e-01,\n",
       "       -1.28030440e+00,  8.72457328e-01,  6.50201178e-01, -9.91758638e-02,\n",
       "        1.84663700e+00, -1.07008477e+00, -1.52552517e+00, -6.91908070e-01,\n",
       "       -4.55860164e-02,  2.43339449e-01, -2.41236058e-01,  3.52055397e-01,\n",
       "       -1.25153942e+00,  1.44376460e+00, -8.21511784e-02,  1.11729583e+00,\n",
       "        3.42725346e-01,  4.56753219e-01,  5.69767280e-01,  4.47708560e-01,\n",
       "        6.42722760e-01,  1.32915253e+00,  1.96521170e-01,  7.09003758e-01,\n",
       "       -8.97356943e-02,  1.44011722e+00, -6.76392302e-01,  1.80094043e+00,\n",
       "       -4.01579506e-02, -1.43077510e+00,  1.28104415e-01, -6.81051657e-01,\n",
       "        8.40643549e-01, -6.52623979e-01, -4.46183433e-01, -1.88954073e+00,\n",
       "       -4.52306319e-01, -2.42387933e+00, -1.58390282e+00,  7.60414656e-01,\n",
       "        7.85800159e-01,  4.25457562e-01, -9.66976143e-01, -4.77113561e-02,\n",
       "       -3.60253909e-03, -1.15836469e+00,  1.50339830e+00,  8.77362291e-01,\n",
       "       -2.20964174e-01,  2.68858390e-02,  2.08382808e-01, -2.04173487e+00,\n",
       "       -2.47177383e-01, -6.81984248e-01, -1.00162001e+00, -2.81100293e-01,\n",
       "        1.79768653e+00,  6.40842861e-01, -5.71178990e-01,  5.72582781e-01])"
      ]
     },
     "execution_count": 40,
     "metadata": {},
     "output_type": "execute_result"
    }
   ],
   "source": [
    "model_reg2(X_st, target, iterations=0, alpha=1e-2, lambda_=1e-4)"
   ]
  },
  {
   "cell_type": "code",
   "execution_count": null,
   "metadata": {},
   "outputs": [],
   "source": []
  }
 ],
 "metadata": {
  "kernelspec": {
   "display_name": "Python 3",
   "language": "python",
   "name": "python3"
  },
  "language_info": {
   "codemirror_mode": {
    "name": "ipython",
    "version": 3
   },
   "file_extension": ".py",
   "mimetype": "text/x-python",
   "name": "python",
   "nbconvert_exporter": "python",
   "pygments_lexer": "ipython3",
   "version": "3.8.5"
  }
 },
 "nbformat": 4,
 "nbformat_minor": 4
}
